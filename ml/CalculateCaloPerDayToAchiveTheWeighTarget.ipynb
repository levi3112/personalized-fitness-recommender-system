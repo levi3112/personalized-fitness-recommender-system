{
  "nbformat": 4,
  "nbformat_minor": 0,
  "metadata": {
    "colab": {
      "provenance": []
    },
    "kernelspec": {
      "name": "python3",
      "display_name": "Python 3"
    },
    "language_info": {
      "name": "python"
    }
  },
  "cells": [
    {
      "cell_type": "code",
      "execution_count": 8,
      "metadata": {
        "colab": {
          "base_uri": "https://localhost:8080/"
        },
        "id": "H5Rh_4IlMKLD",
        "outputId": "906ab5c5-e3c9-4556-b71b-70a10d030118"
      },
      "outputs": [
        {
          "output_type": "stream",
          "name": "stdout",
          "text": [
            "BMR: 1673.75 kcal/ngày\n",
            "TDEE: 2594.31 kcal/ngày\n",
            "Lượng calo tối thiểu cần tiêu thụ để đạt mục tiêu: 1094.31 kcal/ngày\n",
            "Lượng calo tối đa cần tiêu thụ để đạt mục tiêu: 4094.31 kcal/ngày\n",
            "Thời gian để tăng cân từ 70 kg lên 75 kg: 25.67 ngày\n"
          ]
        }
      ],
      "source": [
        "def calculate_bmr(weight, height, age, gender):\n",
        "    if gender == 'Male':\n",
        "        return 10 * weight + 6.25 * height - 5 * age + 5\n",
        "    else:\n",
        "        return 10 * weight + 6.25 * height - 5 * age - 161\n",
        "\n",
        "def calculate_tdee(bmr, activity_level):\n",
        "    activity_multipliers = {\n",
        "        'sedentary': 1.2,\n",
        "        'light': 1.375,\n",
        "        'moderate': 1.55,\n",
        "        'active': 1.725,\n",
        "        'very_active': 1.9\n",
        "    }\n",
        "    return bmr * activity_multipliers.get(activity_level, 1.2)\n",
        "#ước lượng rằng 1 kg cân nặng tương đương với khoảng 7700 kcal (calories).\n",
        "def calculate_time_to_goal(current_weight, desired_weight, calorie_change_per_day):\n",
        "    weight_change = desired_weight - current_weight  # Dương nếu tăng cân, âm nếu giảm cân\n",
        "    total_calories_needed = weight_change * 7700  # Tổng calo cần để đạt mục tiêu\n",
        "    time_in_days = total_calories_needed / calorie_change_per_day\n",
        "    return abs(time_in_days)  # Trả về giá trị tuyệt đối để có số ngày dương\n",
        "\n",
        "def calculate_calorie_range(tdee, calorie_change_per_day):\n",
        "    # Tính lượng calo tối thiểu và tối đa cần tiêu thụ mỗi ngày\n",
        "    min_calories = tdee - calorie_change_per_day  # Thâm hụt calo (giảm cân)\n",
        "    max_calories = tdee + calorie_change_per_day  # Thặng dư calo (tăng cân)\n",
        "    return min_calories, max_calories\n",
        "\n",
        "# Thông tin người dùng\n",
        "current_weight = 70  # kg\n",
        "desired_weight = 75  # kg (thay đổi giá trị này nếu muốn tính tăng cân)\n",
        "height = 175  # cm\n",
        "age = 25  # năm\n",
        "gender = 'Male'  # Giới tính\n",
        "activity_level = 'moderate'  # Mức độ hoạt động\n",
        "\n",
        "# Tính BMR và TDEE dựa trên cân nặng hiện tại\n",
        "bmr = calculate_bmr(current_weight, height, age, gender)\n",
        "tdee = calculate_tdee(bmr, activity_level)\n",
        "\n",
        "# Lượng calo thặng dư hoặc thiếu hụt mỗi ngày\n",
        "calorie_change_per_day = 1500  # Nếu muốn giảm cân, đặt giá trị dương cho thiếu hụt calo; nếu tăng cân thì đặt giá trị thặng dư calo\n",
        "\n",
        "# Tính thời gian để đạt mục tiêu\n",
        "days_to_goal = calculate_time_to_goal(current_weight, desired_weight, calorie_change_per_day)\n",
        "\n",
        "# Tính lượng calo tối thiểu và tối đa cần tiêu thụ mỗi ngày\n",
        "min_calories, max_calories = calculate_calorie_range(tdee, calorie_change_per_day)\n",
        "\n",
        "# Hiển thị kết quả\n",
        "print(f\"BMR: {bmr:.2f} kcal/ngày\")\n",
        "print(f\"TDEE: {tdee:.2f} kcal/ngày\")\n",
        "print(f\"Lượng calo tối thiểu cần tiêu thụ để đạt mục tiêu: {min_calories:.2f} kcal/ngày\")\n",
        "print(f\"Lượng calo tối đa cần tiêu thụ để đạt mục tiêu: {max_calories:.2f} kcal/ngày\")\n",
        "\n",
        "if desired_weight > current_weight:\n",
        "    print(f\"Thời gian để tăng cân từ {current_weight} kg lên {desired_weight} kg: {days_to_goal:.2f} ngày\")\n",
        "else:\n",
        "    print(f\"Thời gian để giảm cân từ {current_weight} kg xuống {desired_weight} kg: {days_to_goal:.2f} ngày\")\n"
      ]
    }
  ]
}